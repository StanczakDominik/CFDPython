{
 "cells": [
  {
   "cell_type": "code",
   "execution_count": null,
   "metadata": {
    "collapsed": true
   },
   "outputs": [],
   "source": [
    "import numpy as np\n",
    "import matplotlib.pyplot as plt\n",
    "from mpl_toolkits.mplot3d import Axes3D\n",
    "from matplotlib import cm\n",
    "from numba import autojit\n",
    "%matplotlib inline\n",
    "\n",
    "def plot2D(X, Y, p):\n",
    "    fig = plt.figure(figsize=(11,7), dpi=100)\n",
    "    ax = fig.gca(projection='3d')\n",
    "    surf1 = ax.plot_surface(X, Y, p, rstride=1, cstride=1,\n",
    "        cmap=cm.coolwarm, antialiased=False, linewidth=0)\n",
    "    ax.set_xlim(0,2)\n",
    "    ax.set_ylim(0,2)\n",
    "    ax.view_init(30,225)\n",
    "\n",
    "@autojit\n",
    "def poisson2d_numba(p, b, dx, dy, l1norm_target):\n",
    "    l1norm = 1\n",
    "    pn = np.empty_like(p)\n",
    "    while l1norm > l1norm_target:\n",
    "        pn = p.copy()\n",
    "        p[1:-1, 1:-1] = (dy**2*(pn[1:-1, 2:] + pn[1:-1, :-2])+\\\n",
    "                         dx**2*(pn[2:,1:-1] + pn[0:-2, 1:-1])-\\\n",
    "                         (dx*dy)**2*b[1:-1, 1:-1])/\\\n",
    "                         (2*(dx**2+dy**2))\n",
    "        p[:,0] = 0\n",
    "        p[:,-1] = 0\n",
    "        p[0,:] = 0\n",
    "        p[-1,:] = 0\n",
    "        l1norm = np.sum(np.abs(p)-np.abs(pn))/np.sum(np.abs(p))\n",
    "    return p\n",
    "   \n",
    "    \n",
    "def run(Nx, Ny, l1_norm_target):\n",
    "    x, dx = np.linspace(0,2,Nx, retstep=True)\n",
    "    y, dy = np.linspace(0,2,Ny, retstep=True)\n",
    "    X, Y = np.meshgrid(x,y)\n",
    "    p = np.zeros_like(X)\n",
    "    b = np.zeros_like(X)\n",
    "    \n",
    "    b[int(Ny/4),int(Nx/4)]  = 100\n",
    "    b[int(3*Ny/4),int(3*Nx/4)] = -100\n",
    "    \n",
    "    p[:, 0] = 0\n",
    "    p[:,-1] = 0\n",
    "    p[0, :] = 0\n",
    "    p[-1,:] = 0\n",
    "    \n",
    "    plot2D(X, Y, poisson2d_numba(p, b, dx, dy, l1_norm_target))\n",
    "    \n",
    "for i in range(0,10):\n",
    "    run(50, 50, 10**-i)"
   ]
  }
 ],
 "metadata": {
  "kernelspec": {
   "display_name": "Python 3",
   "language": "python",
   "name": "python3"
  },
  "language_info": {
   "codemirror_mode": {
    "name": "ipython",
    "version": 3
   },
   "file_extension": ".py",
   "mimetype": "text/x-python",
   "name": "python",
   "nbconvert_exporter": "python",
   "pygments_lexer": "ipython3",
   "version": "3.5.1"
  }
 },
 "nbformat": 4,
 "nbformat_minor": 0
}
